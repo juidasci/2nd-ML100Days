{
 "cells": [
  {
   "cell_type": "markdown",
   "metadata": {},
   "source": [
    "## Work\n",
    "1. 請比較使用不同層數以及不同 Dropout rate 對訓練的效果\n",
    "2. 將 optimizer 改成使用 Adam 並加上適當的 dropout rate 檢視結果"
   ]
  },
  {
   "cell_type": "code",
   "execution_count": null,
   "metadata": {},
   "outputs": [],
   "source": [
    "import os\n",
    "import keras\n",
    "import itertools\n",
    "# Disable GPU\n",
    "os.environ[\"CUDA_VISIBLE_DEVICES\"] = \"\""
   ]
  },
  {
   "cell_type": "code",
   "execution_count": null,
   "metadata": {},
   "outputs": [],
   "source": [
    "train, test = keras.datasets.cifar10.load_data()"
   ]
  },
  {
   "cell_type": "code",
   "execution_count": null,
   "metadata": {},
   "outputs": [],
   "source": [
    "## 資料前處理\n",
    "def preproc_x(x, flatten=True):\n",
    "    x = x / 255.\n",
    "    if flatten:\n",
    "        x = x.reshape((len(x), -1))\n",
    "    return x\n",
    "\n",
    "def preproc_y(y, num_classes=10):\n",
    "    if y.shape[-1] == 1:\n",
    "        y = keras.utils.to_categorical(y, num_classes)\n",
    "    return y    "
   ]
  },
  {
   "cell_type": "code",
   "execution_count": null,
   "metadata": {},
   "outputs": [],
   "source": [
    "x_train, y_train = train\n",
    "x_test, y_test = test\n",
    "\n",
    "# Preproc the inputs\n",
    "x_train = preproc_x(x_train)\n",
    "x_test = preproc_x(x_test)\n",
    "\n",
    "# Preprc the outputs\n",
    "y_train = preproc_y(y_train)\n",
    "y_test = preproc_y(y_test)"
   ]
  },
  {
   "cell_type": "code",
   "execution_count": null,
   "metadata": {},
   "outputs": [],
   "source": [
    "\n",
    "def build_mlp():\n",
    "    \"\"\"Code Here\n",
    "    建立你的神經網路\n",
    "    \"\"\"\n",
    "    input_layer = keras.layers.Input(input_shape)\n",
    "    \n",
    "    for i ,num_enuron in enumerate(num_enurons):\n",
    "        if i == 0:\n",
    "            x = keras.layers.Dense(units = num_enuron,\n",
    "                                  activation = 'relu',\n",
    "                                  name = 'input_layer')(input_layer)\n",
    "            x = Dropout(drop)(x)\n",
    "            \n",
    "        else:\n",
    "            x = keras.layers.Dense(units = num_enuron,\n",
    "                                  activation = 'relu',\n",
    "                                  name = 'hidden_layer'+ str(i + 1))(x)\n",
    "            x = Dropout(drop)(x)\n",
    "    \n",
    "    out = keras.layers.Dense(units = output,\n",
    "                            activation = 'softmax',\n",
    "                            name = 'out_layer')(x)\n",
    "    \n",
    "    model = keras.models.Model(inputs=[input_layer],outputs = [out])\n",
    "    \n",
    "    return model"
   ]
  },
  {
   "cell_type": "code",
   "execution_count": null,
   "metadata": {},
   "outputs": [],
   "source": [
    "\"\"\"Code Here\n",
    "設定超參數\n",
    "\"\"\"\n",
    "lr = 0.001\n",
    "BATCH_SIZE = 256\n",
    "EPOCHS = 50\n",
    "MOMENTUM = 0.95\n",
    "drop_EXP = [0.15, 0.2, 0.25]"
   ]
  },
  {
   "cell_type": "code",
   "execution_count": null,
   "metadata": {
    "scrolled": true
   },
   "outputs": [],
   "source": [
    "results = {}\n",
    "\"\"\"Code Here\n",
    "撰寫你的訓練流程並將結果用 dictionary 紀錄\n",
    "\"\"\"\n",
    "for drop in drop_EXP:\n",
    "    keras.backend.clear_session()\n",
    "    print('drop = ', drop)\n",
    "    model = build_mlp(x_train.shape[1:], drop = drop)\n",
    "    model.summary()\n",
    "    \n",
    "    optimiz = keras.optimizers.adam(lr = lr)\n",
    "    model.compile(loss = 'categorical_crossentropy', metrics = ['accuracy'], optimizer = optimiz)\n",
    "    \n",
    "    model.fit(x_train,y_train,\n",
    "             batch_size = BATCH_SIZE,\n",
    "             epochs = EPOCHS,\n",
    "             validation_data = (x_test,y_test),\n",
    "             shuffle = True)\n",
    "    \n",
    "    loss= model.history.history['loss']\n",
    "    val_loss =  model.history.history['val_loss']\n",
    "    acc =  model.history.history['acc']\n",
    "    val_acc =  model.history.history['val_acc']\n",
    "    \n",
    "    results['drop = '+str(drop)] = {\n",
    "        'loss' :loss,\n",
    "        'val_loss':val_loss,\n",
    "        'acc':acc,\n",
    "        'val_acc':val_acc\n",
    "    }"
   ]
  },
  {
   "cell_type": "code",
   "execution_count": null,
   "metadata": {},
   "outputs": [],
   "source": [
    "import matplotlib.pyplot as plt\n",
    "\n",
    "%matplotlib inline"
   ]
  },
  {
   "cell_type": "code",
   "execution_count": null,
   "metadata": {},
   "outputs": [],
   "source": [
    "\"\"\"Code Here\n",
    "將結果繪出\n",
    "\"\"\"\n",
    "color = ['r','g','b']\n",
    "plt.figure(figsize = (8, 6))\n",
    "\n",
    "for i,key in enumerate(results.keys()):\n",
    "    plt.plot(range(len(results[key]['loss'])), results[key]['loss'],label = \"train_loss\" + key, color = color[i])\n",
    "    plt.plot(range(len(results[key]['val_loss'])), results[key]['val_loss'], label = \"val_loss\" + key, color = color[i])\n",
    "plt.legend()\n",
    "plt.title(\"Loss\")\n",
    "\n",
    "plt.show()\n",
    "\n",
    "for i,key in enumerate(results.keys()):\n",
    "    plt.plot(range(len(results[key]['acc'])), results[key]['acc'], label = \"train_acc\" + key, color = color[i])\n",
    "    plt.plot(range(len(results[key]['val_acc'])), results[key]['val_acc'], label = \"val_acc\" + key, color = color[i])\n",
    "plt.legend()\n",
    "plt.title(\"ACUURACY\")\n",
    "\n",
    "plt.show()"
   ]
  }
 ],
 "metadata": {
  "kernelspec": {
   "display_name": "Python 3",
   "language": "python",
   "name": "python3"
  },
  "language_info": {
   "codemirror_mode": {
    "name": "ipython",
    "version": 3
   },
   "file_extension": ".py",
   "mimetype": "text/x-python",
   "name": "python",
   "nbconvert_exporter": "python",
   "pygments_lexer": "ipython3",
   "version": "3.6.9"
  },
  "toc": {
   "base_numbering": 1,
   "nav_menu": {},
   "number_sections": true,
   "sideBar": true,
   "skip_h1_title": false,
   "title_cell": "Table of Contents",
   "title_sidebar": "Contents",
   "toc_cell": false,
   "toc_position": {},
   "toc_section_display": true,
   "toc_window_display": false
  },
  "varInspector": {
   "cols": {
    "lenName": 16,
    "lenType": 16,
    "lenVar": 40
   },
   "kernels_config": {
    "python": {
     "delete_cmd_postfix": "",
     "delete_cmd_prefix": "del ",
     "library": "var_list.py",
     "varRefreshCmd": "print(var_dic_list())"
    },
    "r": {
     "delete_cmd_postfix": ") ",
     "delete_cmd_prefix": "rm(",
     "library": "var_list.r",
     "varRefreshCmd": "cat(var_dic_list()) "
    }
   },
   "types_to_exclude": [
    "module",
    "function",
    "builtin_function_or_method",
    "instance",
    "_Feature"
   ],
   "window_display": false
  }
 },
 "nbformat": 4,
 "nbformat_minor": 2
}
