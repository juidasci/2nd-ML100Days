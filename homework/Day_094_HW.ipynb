{
 "cells": [
  {
   "cell_type": "markdown",
   "metadata": {},
   "source": [
    "# 作業目標:\n",
    "    了解 Convolution 卷積的組成"
   ]
  },
  {
   "cell_type": "markdown",
   "metadata": {},
   "source": [
    "# 作業重點:\n",
    "    修改 a_slice_prev, 檢查 Z 的輸出"
   ]
  },
  {
   "cell_type": "code",
   "execution_count": 1,
   "metadata": {
    "ExecuteTime": {
     "end_time": "2020-02-06T08:33:15.961365Z",
     "start_time": "2020-02-06T08:33:15.956360Z"
    }
   },
   "outputs": [],
   "source": [
    "import numpy as np"
   ]
  },
  {
   "cell_type": "code",
   "execution_count": 2,
   "metadata": {
    "ExecuteTime": {
     "end_time": "2020-02-06T08:33:17.070278Z",
     "start_time": "2020-02-06T08:33:17.061069Z"
    }
   },
   "outputs": [],
   "source": [
    "# GRADED FUNCTION: conv_single_step\n",
    "def conv_single_step(a_slice_prev, W, b):\n",
    "    \"\"\"\n",
    "    定義一層 Kernel (內核), 使用的參數說明如下\n",
    "    Arguments:\n",
    "        a_slice_prev -- 輸入資料的維度\n",
    "        W -- 權重, 被使用在 a_slice_prev\n",
    "        b -- 偏差參數 \n",
    "    Returns:\n",
    "        Z -- 滑動窗口（W，b）卷積在前一個 feature map 上的結果\n",
    "    \"\"\"\n",
    "\n",
    "    # 定義一個元素介於 a_slice and W\n",
    "    s = a_slice_prev * W\n",
    "    # 加總所有的 \"s\" 並指定給Z.\n",
    "    Z = np.sum(s)\n",
    "    # Add bias b to Z. 這是 float() 函數,\n",
    "    Z = float(Z + b)\n",
    "\n",
    "    return Z"
   ]
  },
  {
   "cell_type": "code",
   "execution_count": 3,
   "metadata": {},
   "outputs": [
    {
     "data": {
      "text/plain": [
       "'\\n\\nnp.random.seed(1)\\n#定義一個 axaxd 的 feature map\\na_slice_prev = \\nW = \\nb = np.random.randn(1, 1, 1)\\n\\n#取得計算後,卷積矩陣的值\\nZ = conv_single_step(a_slice_prev, W, b)\\nprint(\"Z =\", Z)\\n'"
      ]
     },
     "execution_count": 3,
     "metadata": {},
     "output_type": "execute_result"
    }
   ],
   "source": [
    "'''\n",
    "\n",
    "np.random.seed(1)\n",
    "#定義一個 axaxd 的 feature map\n",
    "a_slice_prev = \n",
    "W = \n",
    "b = np.random.randn(1, 1, 1)\n",
    "\n",
    "#取得計算後,卷積矩陣的值\n",
    "Z = conv_single_step(a_slice_prev, W, b)\n",
    "print(\"Z =\", Z)\n",
    "'''"
   ]
  },
  {
   "cell_type": "code",
   "execution_count": 3,
   "metadata": {
    "ExecuteTime": {
     "end_time": "2020-02-06T08:33:19.738278Z",
     "start_time": "2020-02-06T08:33:19.716898Z"
    }
   },
   "outputs": [
    {
     "name": "stdout",
     "output_type": "stream",
     "text": [
      "Z = 48.27264450744978\n"
     ]
    }
   ],
   "source": [
    "np.random.seed(1)\n",
    "#定義一個 axaxd 的 feature map\n",
    "a_slice_prev = np.random.rand(8, 8, 3)\n",
    "W = np.random.rand(8, 8, 3)\n",
    "b = np.random.randn(1, 1, 1)\n",
    "\n",
    "#取得計算後,卷積矩陣的值\n",
    "Z = conv_single_step(a_slice_prev, W, b)\n",
    "print(\"Z =\", Z)"
   ]
  },
  {
   "cell_type": "code",
   "execution_count": 4,
   "metadata": {
    "ExecuteTime": {
     "end_time": "2020-02-06T08:33:32.001606Z",
     "start_time": "2020-02-06T08:33:31.993864Z"
    }
   },
   "outputs": [
    {
     "name": "stdout",
     "output_type": "stream",
     "text": [
      "Z = 24.498286037033754\n"
     ]
    }
   ],
   "source": [
    "np.random.seed(1)\n",
    "#定義一個 axaxd 的 feature map\n",
    "a_slice_prev = np.random.rand(6, 6, 3)\n",
    "W = np.random.rand(6, 6, 3)\n",
    "b = np.random.randn(1, 1, 1)\n",
    "\n",
    "#取得計算後,卷積矩陣的值\n",
    "Z = conv_single_step(a_slice_prev, W, b)\n",
    "print(\"Z =\", Z)"
   ]
  },
  {
   "cell_type": "code",
   "execution_count": null,
   "metadata": {},
   "outputs": [],
   "source": []
  }
 ],
 "metadata": {
  "kernelspec": {
   "display_name": "Python 3",
   "language": "python",
   "name": "python3"
  },
  "language_info": {
   "codemirror_mode": {
    "name": "ipython",
    "version": 3
   },
   "file_extension": ".py",
   "mimetype": "text/x-python",
   "name": "python",
   "nbconvert_exporter": "python",
   "pygments_lexer": "ipython3",
   "version": "3.6.9"
  },
  "toc": {
   "base_numbering": 1,
   "nav_menu": {},
   "number_sections": true,
   "sideBar": true,
   "skip_h1_title": false,
   "title_cell": "Table of Contents",
   "title_sidebar": "Contents",
   "toc_cell": false,
   "toc_position": {},
   "toc_section_display": true,
   "toc_window_display": false
  },
  "varInspector": {
   "cols": {
    "lenName": 16,
    "lenType": 16,
    "lenVar": 40
   },
   "kernels_config": {
    "python": {
     "delete_cmd_postfix": "",
     "delete_cmd_prefix": "del ",
     "library": "var_list.py",
     "varRefreshCmd": "print(var_dic_list())"
    },
    "r": {
     "delete_cmd_postfix": ") ",
     "delete_cmd_prefix": "rm(",
     "library": "var_list.r",
     "varRefreshCmd": "cat(var_dic_list()) "
    }
   },
   "types_to_exclude": [
    "module",
    "function",
    "builtin_function_or_method",
    "instance",
    "_Feature"
   ],
   "window_display": false
  }
 },
 "nbformat": 4,
 "nbformat_minor": 2
}
